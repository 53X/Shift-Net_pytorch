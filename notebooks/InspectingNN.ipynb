{
 "cells": [
  {
   "cell_type": "code",
   "execution_count": null,
   "metadata": {},
   "outputs": [],
   "source": [
    "%load_ext autoreload\n",
    "%autoreload 2\n",
    "import os\n",
    "import torch\n",
    "import argparse\n",
    "import matplotlib.pyplot as plt\n",
    "import sys\n",
    "sys.path.append('../')\n",
    "from models.soft_shift_net.soft_shiftnet_model import ShiftNetModel\n",
    "from options.train_options import TrainOptions \n",
    "from models import networks\n",
    "import numpy as np\n",
    "import warnings\n",
    "warnings.simplefilter(\"ignore\")"
   ]
  },
  {
   "cell_type": "code",
   "execution_count": null,
   "metadata": {},
   "outputs": [],
   "source": [
    "import util\n",
    "from util.util import *\n",
    "from collections import namedtuple "
   ]
  },
  {
   "cell_type": "code",
   "execution_count": null,
   "metadata": {},
   "outputs": [],
   "source": [
    "optClass = namedtuple('Options', ['fineSize'])"
   ]
  },
  {
   "cell_type": "code",
   "execution_count": null,
   "metadata": {},
   "outputs": [],
   "source": [
    "opt = optClass(fineSize=256)\n",
    "opt.fineSize"
   ]
  },
  {
   "cell_type": "code",
   "execution_count": null,
   "metadata": {},
   "outputs": [],
   "source": [
    "%time mask = wrapper_gmask(opt)"
   ]
  },
  {
   "cell_type": "code",
   "execution_count": null,
   "metadata": {},
   "outputs": [],
   "source": [
    "plt.imshow(np.squeeze(mask))"
   ]
  },
  {
   "cell_type": "code",
   "execution_count": null,
   "metadata": {},
   "outputs": [],
   "source": [
    "import skimage\n",
    "from skimage.transform import resize"
   ]
  },
  {
   "cell_type": "code",
   "execution_count": null,
   "metadata": {},
   "outputs": [],
   "source": [
    "masks = []\n",
    "for _ in range(1000):\n",
    "    mask = wrapper_gmask(opt).cpu().numpy()\n",
    "    masks.append(resize(np.squeeze(mask), (64, 64)))\n",
    "masks = np.array(masks)"
   ]
  },
  {
   "cell_type": "code",
   "execution_count": null,
   "metadata": {},
   "outputs": [],
   "source": [
    "#masks = masks.reshape((1000, -1))"
   ]
  },
  {
   "cell_type": "code",
   "execution_count": null,
   "metadata": {},
   "outputs": [],
   "source": [
    "mean = np.mean(masks) \n",
    "masks[masks >= mean] = 1\n",
    "masks[masks < mean] = 0"
   ]
  },
  {
   "cell_type": "code",
   "execution_count": null,
   "metadata": {},
   "outputs": [],
   "source": [
    "masks.shape"
   ]
  },
  {
   "cell_type": "code",
   "execution_count": null,
   "metadata": {},
   "outputs": [],
   "source": [
    "plt.imshow(masks[0])"
   ]
  },
  {
   "cell_type": "code",
   "execution_count": null,
   "metadata": {},
   "outputs": [],
   "source": [
    "masks = masks.astype(np.int)\n",
    "masks = masks.reshape((1000, -1))"
   ]
  },
  {
   "cell_type": "code",
   "execution_count": null,
   "metadata": {},
   "outputs": [],
   "source": [
    "class OptimizerMask:\n",
    "    \n",
    "    def __init__(self, masks, stop_criteria=0.85):\n",
    "        self.masks = masks\n",
    "        self.indexes = []\n",
    "        self.stop_criteria = stop_criteria\n",
    "        \n",
    "        \n",
    "    def get_iou(self):\n",
    "        intersection = np.matmul(masks, masks.T)\n",
    "        diag = np.diag(intersection)\n",
    "        outer_add = np.add.outer(diag, diag)\n",
    "        self.iou = intersection / outer_add \n",
    "        self.shape = self.iou.shape\n",
    "        \n",
    "    def _is_finished(self):\n",
    "        masks = self.masks[self.indexes]\n",
    "        #print(masks.shape)\n",
    "        masks = np.sum(masks, axis=0)\n",
    "        #print(masks.shape)\n",
    "        masks[masks > 0] = 1\n",
    "        plt.imshow(masks.reshape((64, 64)))\n",
    "        area_coverage = np.sum(masks)/np.product(masks.shape)\n",
    "        #print(area_coverage)\n",
    "        if area_coverage < self.stop_criteria:\n",
    "            return False\n",
    "        else:\n",
    "            return True\n",
    "        \n",
    "    def mean(self):\n",
    "        _mean = np.mean(np.sum(self.masks[self.indexes], axis=-1))/(64*64)\n",
    "        print(_mean)\n",
    "        \n",
    "    def _get_next_indexes(self):\n",
    "        ious = self.iou[self.indexes]\n",
    "        _mean_iou = np.mean(ious, axis=0)\n",
    "        idx = np.argmin(_mean_iou)\n",
    "        #print(idx)\n",
    "        self.indexes = np.append(self.indexes, np.argmin(_mean_iou))\n",
    "        \n",
    "    def _solve(self):\n",
    "        self.indexes = list(np.unravel_index(np.argmin(self.iou), self.shape))\n",
    "        #print(self.indexes)\n",
    "        while not self._is_finished():\n",
    "            self._get_next_indexes()\n",
    "            \n",
    "    def get_masks(self):\n",
    "        masks = self.masks[self.indexes]\n",
    "        full = np.ones_like(masks[0])\n",
    "        left = full - np.mean(masks, axis=0)\n",
    "        return np.append(masks, left).reshape((-1, 64, 64))\n",
    "    \n",
    "    def solve(self):\n",
    "        self._solve()\n",
    "        "
   ]
  },
  {
   "cell_type": "code",
   "execution_count": null,
   "metadata": {},
   "outputs": [],
   "source": [
    "opti = OptimizerMask(masks)"
   ]
  },
  {
   "cell_type": "code",
   "execution_count": null,
   "metadata": {},
   "outputs": [],
   "source": [
    "opti.get_iou()"
   ]
  },
  {
   "cell_type": "code",
   "execution_count": null,
   "metadata": {},
   "outputs": [],
   "source": [
    "opti.solve()"
   ]
  },
  {
   "cell_type": "code",
   "execution_count": null,
   "metadata": {},
   "outputs": [],
   "source": [
    "opti.mean()"
   ]
  },
  {
   "cell_type": "code",
   "execution_count": null,
   "metadata": {},
   "outputs": [],
   "source": [
    "output = opti.get_masks()"
   ]
  },
  {
   "cell_type": "code",
   "execution_count": null,
   "metadata": {},
   "outputs": [],
   "source": [
    "output.shape"
   ]
  },
  {
   "cell_type": "code",
   "execution_count": null,
   "metadata": {},
   "outputs": [],
   "source": [
    "masks = np.array([resize(mask, (256, 256)) for mask in output])"
   ]
  },
  {
   "cell_type": "code",
   "execution_count": null,
   "metadata": {},
   "outputs": [],
   "source": [
    "masks[masks > 0] = 1"
   ]
  },
  {
   "cell_type": "code",
   "execution_count": null,
   "metadata": {},
   "outputs": [],
   "source": [
    "masks[-1] = 1 - np.max(masks[:-1], axis=0)"
   ]
  },
  {
   "cell_type": "code",
   "execution_count": null,
   "metadata": {},
   "outputs": [],
   "source": [
    "masks[-1]"
   ]
  },
  {
   "cell_type": "code",
   "execution_count": null,
   "metadata": {},
   "outputs": [],
   "source": [
    "plt.imshow(masks[-1])"
   ]
  },
  {
   "cell_type": "code",
   "execution_count": null,
   "metadata": {},
   "outputs": [],
   "source": [
    "from skimage.morphology import *"
   ]
  },
  {
   "cell_type": "code",
   "execution_count": null,
   "metadata": {},
   "outputs": [],
   "source": [
    "masks[-1] = dilation(masks[-1], diamond(5))"
   ]
  },
  {
   "cell_type": "code",
   "execution_count": null,
   "metadata": {},
   "outputs": [],
   "source": [
    "plt.imshow(masks[-1])"
   ]
  },
  {
   "cell_type": "markdown",
   "metadata": {},
   "source": [
    "# DEFINE THE MODEL"
   ]
  },
  {
   "cell_type": "code",
   "execution_count": null,
   "metadata": {},
   "outputs": [],
   "source": [
    "dataroot = '/mnt/hdd2/AIM/DAGM/Class8' # ENTER HERE THE PATH YOU WANT TO USE AS DATAROOT\n",
    "which_model_netG = 'acc_unet_shift_triple'\n",
    "add_mask2input = 'True'\n",
    "model = 'soft_shiftnet'\n",
    "dataset_mode = 'aligned_resized'\n",
    "options = '--dataroot {} --which_model_netG {} --add_mask2input {} --model {} --dataset_mode {}'.format(dataroot, which_model_netG, add_mask2input, model, dataset_mode).split(' ')"
   ]
  },
  {
   "cell_type": "code",
   "execution_count": null,
   "metadata": {},
   "outputs": [],
   "source": [
    "def get_parser(options=None):\n",
    "    parser = TrainOptions()\n",
    "    parser.parse(options=options)\n",
    "    return parser"
   ]
  },
  {
   "cell_type": "code",
   "execution_count": null,
   "metadata": {},
   "outputs": [],
   "source": [
    "parser = get_parser(options=options)\n",
    "opt = parser.opt"
   ]
  },
  {
   "cell_type": "code",
   "execution_count": null,
   "metadata": {},
   "outputs": [],
   "source": [
    "from models import create_model\n",
    "from collections import OrderedDict"
   ]
  },
  {
   "cell_type": "code",
   "execution_count": null,
   "metadata": {},
   "outputs": [],
   "source": []
  },
  {
   "cell_type": "code",
   "execution_count": null,
   "metadata": {},
   "outputs": [],
   "source": [
    "model = create_model(opt)"
   ]
  },
  {
   "cell_type": "code",
   "execution_count": null,
   "metadata": {},
   "outputs": [],
   "source": [
    "os.listdir('/mnt/hdd2/AIM/checkpoints/')"
   ]
  },
  {
   "cell_type": "code",
   "execution_count": null,
   "metadata": {},
   "outputs": [],
   "source": [
    "path_weights = '/mnt/hdd2/AIM/checkpoints/17_12_2018_Class8_0/latest_net_G.pth'"
   ]
  },
  {
   "cell_type": "code",
   "execution_count": null,
   "metadata": {},
   "outputs": [],
   "source": [
    "weights = torch.load(path_weights)"
   ]
  },
  {
   "cell_type": "code",
   "execution_count": null,
   "metadata": {},
   "outputs": [],
   "source": [
    "list(weights.keys())[0]"
   ]
  },
  {
   "cell_type": "code",
   "execution_count": null,
   "metadata": {},
   "outputs": [],
   "source": [
    "new_state = OrderedDict()\n",
    "for k in weights.keys():\n",
    "    new_k = 'module.'+k\n",
    "    new_state[new_k] = weights[k]"
   ]
  },
  {
   "cell_type": "code",
   "execution_count": null,
   "metadata": {},
   "outputs": [],
   "source": [
    "list(model.netG.state_dict().keys())[0]"
   ]
  },
  {
   "cell_type": "code",
   "execution_count": null,
   "metadata": {},
   "outputs": [],
   "source": [
    "model.netG.load_state_dict(new_state, strict=True)"
   ]
  },
  {
   "cell_type": "markdown",
   "metadata": {},
   "source": [
    "# CREATE DATASET"
   ]
  },
  {
   "cell_type": "code",
   "execution_count": null,
   "metadata": {},
   "outputs": [],
   "source": [
    "from data.data_loader import CreateDataLoader\n",
    "from util.util import tensor2im, hist_match"
   ]
  },
  {
   "cell_type": "code",
   "execution_count": null,
   "metadata": {},
   "outputs": [],
   "source": [
    "data_loader = CreateDataLoader(opt)\n",
    "dataset = data_loader.load_data()"
   ]
  },
  {
   "cell_type": "code",
   "execution_count": null,
   "metadata": {},
   "outputs": [],
   "source": [
    "def mask2tensor(mask):\n",
    "    return torch.ByteTensor(mask[np.newaxis, ...][np.newaxis, ...]).cuda()\n"
   ]
  },
  {
   "cell_type": "code",
   "execution_count": null,
   "metadata": {},
   "outputs": [],
   "source": [
    "max_error = []\n",
    "for i, data in enumerate(dataset):\n",
    "    \n",
    "    #print('i {}'.format(i))\n",
    "    img = data['A']\n",
    "    print(img.min(), img.max())\n",
    "    img_A = tensor2im(data['A'])\n",
    "    p = data['A_paths']\n",
    "    print(p)\n",
    "    print(img_A.min(), img_A.max())\n",
    "    plt.imshow(img_A)\n",
    "    plt.show()\n",
    "    fake_holder = np.zeros((256, 256, 3))\n",
    "    fake_sum = np.zeros((256, 256, 1))\n",
    "    \n",
    "    for mask in masks:\n",
    "        model.set_input_with_mask(data, mask2tensor(mask))\n",
    "        model.forward()\n",
    "\n",
    "        fake_B = model.fake_B\n",
    "        fake_B = tensor2im(fake_B)\n",
    "        mask = mask[..., np.newaxis]\n",
    "        m = np.tile(mask, (1, 1, 3))\n",
    "        fake_holder[m == 1] += fake_B[m == 1]\n",
    "        fake_sum += mask\n",
    "    \n",
    "    img_A = img_A.astype(np.float)\n",
    "    img_A-=img_A.min()\n",
    "    img_A/=img_A.max()\n",
    "    print(img_A.min(), img_A.max())\n",
    "    rec = fake_holder/fake_sum.astype(np.float)\n",
    "    print(rec.min(), rec.max())\n",
    "    rec-=rec.min()\n",
    "    rec/=rec.max()    \n",
    "    rec = hist_match(rec, img_A)\n",
    "    print(rec.min(), rec.max())\n",
    "    img_A = img_A.astype(np.float)\n",
    "    \n",
    "    plt.imshow(rec)\n",
    "    plt.show()\n",
    "    \n",
    "    diff = np.abs(img_A - rec).astype(np.float)\n",
    "    max_error.append([p, np.max(diff)])\n",
    "    print(np.max(diff))\n",
    "    #diff/=np.max(diff)\n",
    "    plt.imshow(diff)\n",
    "    plt.show()\n",
    "    #break"
   ]
  },
  {
   "cell_type": "code",
   "execution_count": null,
   "metadata": {},
   "outputs": [],
   "source": [
    "plt.hist(np.array(max_error)[:, 1])"
   ]
  },
  {
   "cell_type": "code",
   "execution_count": null,
   "metadata": {},
   "outputs": [],
   "source": [
    "rec = fake_holder/fake_sum.astype(np.float)"
   ]
  },
  {
   "cell_type": "code",
   "execution_count": null,
   "metadata": {},
   "outputs": [],
   "source": [
    "rec-=rec.min()\n",
    "rec/=rec.max()"
   ]
  },
  {
   "cell_type": "code",
   "execution_count": null,
   "metadata": {},
   "outputs": [],
   "source": [
    "img_A = img_A.astype(np.float)\n",
    "img_A-=img_A.min()\n",
    "img_A/=img_A.max()"
   ]
  },
  {
   "cell_type": "code",
   "execution_count": null,
   "metadata": {},
   "outputs": [],
   "source": [
    "plt.imshow(img_A)"
   ]
  },
  {
   "cell_type": "code",
   "execution_count": null,
   "metadata": {},
   "outputs": [],
   "source": [
    "plt.imshow(rec)"
   ]
  },
  {
   "cell_type": "code",
   "execution_count": null,
   "metadata": {},
   "outputs": [],
   "source": [
    "plt.imshow(np.abs(img_A - rec))"
   ]
  },
  {
   "cell_type": "code",
   "execution_count": null,
   "metadata": {},
   "outputs": [],
   "source": [
    "plt.imshow(np.squeeze(fake_sum))"
   ]
  },
  {
   "cell_type": "code",
   "execution_count": null,
   "metadata": {},
   "outputs": [],
   "source": [
    "fake_sum.max()"
   ]
  },
  {
   "cell_type": "code",
   "execution_count": null,
   "metadata": {},
   "outputs": [],
   "source": []
  }
 ],
 "metadata": {
  "kernelspec": {
   "display_name": "Python 3",
   "language": "python",
   "name": "python3"
  },
  "language_info": {
   "codemirror_mode": {
    "name": "ipython",
    "version": 3
   },
   "file_extension": ".py",
   "mimetype": "text/x-python",
   "name": "python",
   "nbconvert_exporter": "python",
   "pygments_lexer": "ipython3",
   "version": "3.6.4"
  }
 },
 "nbformat": 4,
 "nbformat_minor": 2
}
