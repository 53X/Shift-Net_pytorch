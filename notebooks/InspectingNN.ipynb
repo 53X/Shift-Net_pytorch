{
 "cells": [
  {
   "cell_type": "code",
   "execution_count": 1,
   "metadata": {},
   "outputs": [],
   "source": [
    "%load_ext autoreload\n",
    "%autoreload 2\n",
    "import os\n",
    "import torch\n",
    "import argparse\n",
    "import matplotlib.pyplot as plt\n",
    "import sys\n",
    "sys.path.append('../')\n",
    "from models.soft_shift_net.soft_shiftnet_model import ShiftNetModel\n",
    "from options.train_options import TrainOptions \n",
    "from models import networks\n",
    "import numpy as np\n",
    "import warnings\n",
    "warnings.simplefilter(\"ignore\")"
   ]
  },
  {
   "cell_type": "code",
   "execution_count": 2,
   "metadata": {},
   "outputs": [],
   "source": [
    "import util\n",
    "from util.util import *\n",
    "from collections import namedtuple "
   ]
  },
  {
   "cell_type": "code",
   "execution_count": 3,
   "metadata": {},
   "outputs": [],
   "source": [
    "optClass = namedtuple('Options', ['fineSize'])"
   ]
  },
  {
   "cell_type": "code",
   "execution_count": 4,
   "metadata": {},
   "outputs": [
    {
     "data": {
      "text/plain": [
       "256"
      ]
     },
     "execution_count": 4,
     "metadata": {},
     "output_type": "execute_result"
    }
   ],
   "source": [
    "opt = optClass(fineSize=256)\n",
    "opt.fineSize"
   ]
  },
  {
   "cell_type": "code",
   "execution_count": 5,
   "metadata": {},
   "outputs": [
    {
     "name": "stdout",
     "output_type": "stream",
     "text": [
      "CPU times: user 408 ms, sys: 12 ms, total: 420 ms\n",
      "Wall time: 217 ms\n"
     ]
    }
   ],
   "source": [
    "%time mask = wrapper_gmask(opt)"
   ]
  },
  {
   "cell_type": "code",
   "execution_count": 6,
   "metadata": {},
   "outputs": [
    {
     "data": {
      "text/plain": [
       "<matplotlib.image.AxesImage at 0x7f93bb45b0f0>"
      ]
     },
     "execution_count": 6,
     "metadata": {},
     "output_type": "execute_result"
    },
    {
     "data": {
      "image/png": "[encoded data removed]",
      "text/plain": [
       "<Figure size 432x288 with 1 Axes>"
      ]
     },
     "metadata": {
      "needs_background": "light"
     },
     "output_type": "display_data"
    }
   ],
   "source": [
    "plt.imshow(np.squeeze(mask))"
   ]
  },
  {
   "cell_type": "code",
   "execution_count": 7,
   "metadata": {},
   "outputs": [],
   "source": [
    "import skimage\n",
    "from skimage.transform import resize"
   ]
  },
  {
   "cell_type": "code",
   "execution_count": 8,
   "metadata": {},
   "outputs": [],
   "source": [
    "masks = []\n",
    "for _ in range(1000):\n",
    "    mask = wrapper_gmask(opt).cpu().numpy()\n",
    "    masks.append(resize(np.squeeze(mask), (64, 64)))\n",
    "masks = np.array(masks)"
   ]
  },
  {
   "cell_type": "code",
   "execution_count": 9,
   "metadata": {},
   "outputs": [],
   "source": [
    "#masks = masks.reshape((1000, -1))"
   ]
  },
  {
   "cell_type": "code",
   "execution_count": 10,
   "metadata": {},
   "outputs": [],
   "source": [
    "mean = np.mean(masks) \n",
    "masks[masks >= mean] = 1\n",
    "masks[masks < mean] = 0"
   ]
  },
  {
   "cell_type": "code",
   "execution_count": 11,
   "metadata": {},
   "outputs": [
    {
     "data": {
      "text/plain": [
       "(1000, 64, 64)"
      ]
     },
     "execution_count": 11,
     "metadata": {},
     "output_type": "execute_result"
    }
   ],
   "source": [
    "masks.shape"
   ]
  },
  {
   "cell_type": "code",
   "execution_count": 12,
   "metadata": {},
   "outputs": [
    {
     "data": {
      "text/plain": [
       "<matplotlib.image.AxesImage at 0x7f93afb9d278>"
      ]
     },
     "execution_count": 12,
     "metadata": {},
     "output_type": "execute_result"
    },
    {
     "data": {
      "image/png": "[encoded data removed]",
      "text/plain": [
       "<Figure size 432x288 with 1 Axes>"
      ]
     },
     "metadata": {
      "needs_background": "light"
     },
     "output_type": "display_data"
    }
   ],
   "source": [
    "plt.imshow(masks[0])"
   ]
  },
  {
   "cell_type": "code",
   "execution_count": 13,
   "metadata": {},
   "outputs": [],
   "source": [
    "masks = masks.astype(np.int)\n",
    "masks = masks.reshape((1000, -1))"
   ]
  },
  {
   "cell_type": "code",
   "execution_count": 14,
   "metadata": {},
   "outputs": [],
   "source": [
    "class OptimizerMask:\n",
    "    \n",
    "    def __init__(self, masks, stop_criteria=0.85):\n",
    "        self.masks = masks\n",
    "        self.indexes = []\n",
    "        self.stop_criteria = stop_criteria\n",
    "        \n",
    "        \n",
    "    def get_iou(self):\n",
    "        intersection = np.matmul(masks, masks.T)\n",
    "        diag = np.diag(intersection)\n",
    "        outer_add = np.add.outer(diag, diag)\n",
    "        self.iou = intersection / outer_add \n",
    "        self.shape = self.iou.shape\n",
    "        \n",
    "    def _is_finished(self):\n",
    "        masks = self.masks[self.indexes]\n",
    "        #print(masks.shape)\n",
    "        masks = np.sum(masks, axis=0)\n",
    "        #print(masks.shape)\n",
    "        masks[masks > 0] = 1\n",
    "        plt.imshow(masks.reshape((64, 64)))\n",
    "        area_coverage = np.sum(masks)/np.product(masks.shape)\n",
    "        #print(area_coverage)\n",
    "        if area_coverage < self.stop_criteria:\n",
    "            return False\n",
    "        else:\n",
    "            return True\n",
    "        \n",
    "    def mean(self):\n",
    "        _mean = np.mean(np.sum(self.masks[self.indexes], axis=-1))/(64*64)\n",
    "        print(_mean)\n",
    "        \n",
    "    def _get_next_indexes(self):\n",
    "        ious = self.iou[self.indexes]\n",
    "        _mean_iou = np.mean(ious, axis=0)\n",
    "        idx = np.argmin(_mean_iou)\n",
    "        #print(idx)\n",
    "        self.indexes = np.append(self.indexes, np.argmin(_mean_iou))\n",
    "        \n",
    "    def _solve(self):\n",
    "        self.indexes = list(np.unravel_index(np.argmin(self.iou), self.shape))\n",
    "        #print(self.indexes)\n",
    "        while not self._is_finished():\n",
    "            self._get_next_indexes()\n",
    "            \n",
    "    def get_masks(self):\n",
    "        masks = self.masks[self.indexes]\n",
    "        full = np.ones_like(masks[0])\n",
    "        left = full - np.mean(masks, axis=0)\n",
    "        return np.append(masks, left).reshape((-1, 64, 64))\n",
    "    \n",
    "    def solve(self):\n",
    "        self._solve()\n",
    "        "
   ]
  },
  {
   "cell_type": "code",
   "execution_count": 15,
   "metadata": {},
   "outputs": [],
   "source": [
    "opti = OptimizerMask(masks)"
   ]
  },
  {
   "cell_type": "code",
   "execution_count": 16,
   "metadata": {},
   "outputs": [],
   "source": [
    "opti.get_iou()"
   ]
  },
  {
   "cell_type": "code",
   "execution_count": 17,
   "metadata": {},
   "outputs": [
    {
     "data": {
      "image/png": "[encoded data removed]",
      "text/plain": [
       "<Figure size 432x288 with 1 Axes>"
      ]
     },
     "metadata": {
      "needs_background": "light"
     },
     "output_type": "display_data"
    }
   ],
   "source": [
    "opti.solve()"
   ]
  },
  {
   "cell_type": "code",
   "execution_count": 18,
   "metadata": {},
   "outputs": [
    {
     "name": "stdout",
     "output_type": "stream",
     "text": [
      "0.08539496527777778\n"
     ]
    }
   ],
   "source": [
    "opti.mean()"
   ]
  },
  {
   "cell_type": "code",
   "execution_count": 19,
   "metadata": {},
   "outputs": [],
   "source": [
    "output = opti.get_masks()"
   ]
  },
  {
   "cell_type": "code",
   "execution_count": 20,
   "metadata": {},
   "outputs": [
    {
     "data": {
      "text/plain": [
       "(19, 64, 64)"
      ]
     },
     "execution_count": 20,
     "metadata": {},
     "output_type": "execute_result"
    }
   ],
   "source": [
    "output.shape"
   ]
  },
  {
   "cell_type": "code",
   "execution_count": 21,
   "metadata": {},
   "outputs": [],
   "source": [
    "masks = np.array([resize(mask, (256, 256)) for mask in output])"
   ]
  },
  {
   "cell_type": "code",
   "execution_count": 22,
   "metadata": {},
   "outputs": [],
   "source": [
    "masks[masks > 0] = 1"
   ]
  },
  {
   "cell_type": "code",
   "execution_count": 23,
   "metadata": {},
   "outputs": [],
   "source": [
    "masks[-1] = 1 - np.max(masks[:-1], axis=0)"
   ]
  },
  {
   "cell_type": "code",
   "execution_count": 24,
   "metadata": {},
   "outputs": [
    {
     "data": {
      "text/plain": [
       "array([[0., 0., 0., ..., 0., 1., 1.],\n",
       "       [0., 0., 0., ..., 0., 1., 1.],\n",
       "       [0., 0., 0., ..., 0., 1., 1.],\n",
       "       ...,\n",
       "       [0., 0., 0., ..., 0., 0., 0.],\n",
       "       [1., 1., 1., ..., 0., 0., 0.],\n",
       "       [1., 1., 1., ..., 0., 0., 0.]])"
      ]
     },
     "execution_count": 24,
     "metadata": {},
     "output_type": "execute_result"
    }
   ],
   "source": [
    "masks[-1]"
   ]
  },
  {
   "cell_type": "code",
   "execution_count": 25,
   "metadata": {},
   "outputs": [
    {
     "data": {
      "text/plain": [
       "<matplotlib.image.AxesImage at 0x7f93afbe2d30>"
      ]
     },
     "execution_count": 25,
     "metadata": {},
     "output_type": "execute_result"
    },
    {
     "data": {
      "image/png": "[encoded data removed]",
      "text/plain": [
       "<Figure size 432x288 with 1 Axes>"
      ]
     },
     "metadata": {
      "needs_background": "light"
     },
     "output_type": "display_data"
    }
   ],
   "source": [
    "plt.imshow(masks[-1])"
   ]
  },
  {
   "cell_type": "code",
   "execution_count": 26,
   "metadata": {},
   "outputs": [],
   "source": [
    "from skimage.morphology import *"
   ]
  },
  {
   "cell_type": "code",
   "execution_count": 27,
   "metadata": {},
   "outputs": [],
   "source": [
    "masks[-1] = dilation(masks[-1], diamond(5))"
   ]
  },
  {
   "cell_type": "code",
   "execution_count": 28,
   "metadata": {},
   "outputs": [
    {
     "data": {
      "text/plain": [
       "<matplotlib.image.AxesImage at 0x7f93af26fe80>"
      ]
     },
     "execution_count": 28,
     "metadata": {},
     "output_type": "execute_result"
    },
    {
     "data": {
      "image/png": "[encoded data removed]",
      "text/plain": [
       "<Figure size 432x288 with 1 Axes>"
      ]
     },
     "metadata": {
      "needs_background": "light"
     },
     "output_type": "display_data"
    }
   ],
   "source": [
    "plt.imshow(masks[-1])"
   ]
  },
  {
   "cell_type": "markdown",
   "metadata": {},
   "source": [
    "# DEFINE THE MODEL"
   ]
  },
  {
   "cell_type": "code",
   "execution_count": 29,
   "metadata": {},
   "outputs": [],
   "source": [
    "dataroot = '/mnt/hdd2/AIM/DAGM/Class4_def' # ENTER HERE THE PATH YOU WANT TO USE AS DATAROOT\n",
    "#dataroot = '/mnt/hdd2/AIM/DAGM/Class8/Train' # ENTER HERE THE PATH YOU WANT TO USE AS DATAROOT\n",
    "which_model_netG = 'unet_shift_triple'\n",
    "model = 'shiftnet'\n",
    "dataset_mode = 'aligned_resized'\n",
    "which_model_netD = 'basic'\n",
    "gpu_ids = '3'\n",
    "fixed_mask = '0'\n",
    "mask_type = 'random'\n",
    "options = '--dataroot {} --which_model_netG {} --model {} --dataset_mode {} --which_model_netD {} --gpu_ids {} --fixed_mask {} --mask_type {}'\\\n",
    "            .format(dataroot, which_model_netG, \\\n",
    "                    model, dataset_mode, which_model_netD, gpu_ids, fixed_mask, mask_type).split(' ')"
   ]
  },
  {
   "cell_type": "code",
   "execution_count": 30,
   "metadata": {},
   "outputs": [],
   "source": [
    "def get_parser(options=None):\n",
    "    parser = TrainOptions()\n",
    "    parser.parse(options=options)\n",
    "    return parser"
   ]
  },
  {
   "cell_type": "code",
   "execution_count": 31,
   "metadata": {},
   "outputs": [
    {
     "name": "stdout",
     "output_type": "stream",
     "text": [
      "----------------- Options ---------------\n",
      "       add_mask2input_dis: 1                             \n",
      "       add_mask2input_gen: 1                             \n",
      "                batchSize: 1                             \n",
      "                    beta1: 0.5                           \n",
      "               bottleneck: 512                           \n",
      "          checkpoints_dir: ./log                         \n",
      "                constrain: MSE                           \n",
      "           continue_train: False                         \n",
      "                 dataroot: /mnt/hdd2/AIM/DAGM/Class4_def \t[default: ./datasets/Paris/train]\n",
      "             dataset_mode: aligned_resized               \t[default: aligned]\n",
      "             display_freq: 100                           \n",
      "               display_id: 1                             \n",
      "            display_ncols: 5                             \n",
      "             display_port: 8097                          \n",
      "           display_server: http://localhost              \n",
      "display_single_pane_ncols: 0                             \n",
      "          display_winsize: 256                           \n",
      "              epoch_count: 1                             \n",
      "                 fineSize: 256                           \n",
      "               fixed_mask: 0                             \t[default: 1]\n",
      "                     fuse: 0                             \n",
      "                 gan_type: vanilla                       \n",
      "               gan_weight: 0.2                           \n",
      "                gp_lambda: 10.0                          \n",
      "                  gpu_ids: 3                             \t[default: 0]\n",
      "                init_gain: 0.02                          \n",
      "                init_type: normal                        \n",
      "                 input_nc: 3                             \n",
      "                  isTrain: True                          \t[default: None]\n",
      "                 lambda_A: 100                           \n",
      "                 loadSize: 350                           \n",
      "                       lr: 0.0002                        \n",
      "           lr_decay_iters: 50                            \n",
      "                lr_policy: lambda                        \n",
      "            mask_sub_type: island                        \n",
      "               mask_thred: 1                             \n",
      "                mask_type: random                        \t[default: center]\n",
      "         max_dataset_size: inf                           \n",
      "                    model: shiftnet                      \n",
      "              multi_label: 0                             \n",
      "                 nThreads: 2                             \n",
      "               n_layers_D: 3                             \n",
      "                     name:                               \n",
      "                  ncritic: 5                             \n",
      "                      ndf: 64                            \n",
      "                      ngf: 64                            \n",
      "                    niter: 10000000                      \n",
      "              niter_decay: 0                             \n",
      "                  no_flip: False                         \n",
      "                  no_html: False                         \n",
      "                     norm: instance                      \n",
      "             only_lastest: 0                             \n",
      "                output_nc: 3                             \n",
      "                  overlap: 4                             \n",
      "                    phase: train                         \n",
      "               print_freq: 50                            \n",
      "  residual_soft_attention: 0                             \n",
      "           resize_or_crop: resize_and_crop               \n",
      "          save_epoch_freq: 2                             \n",
      "         save_latest_freq: 5000                          \n",
      "           serial_batches: False                         \n",
      "                 shift_sz: 1                             \n",
      "                show_flow: 0                             \n",
      "                     skip: 0                             \n",
      "          sobel_norm_loss: 0                             \n",
      "                 strength: 1                             \n",
      "                   stride: 1                             \n",
      "                   suffix:                               \n",
      "            triple_weight: 1                             \n",
      "         update_html_freq: 1000                          \n",
      "              use_dropout: False                         \n",
      "                  verbose: False                         \n",
      "              which_epoch: latest                        \n",
      "         which_model_netD: basic                         \t[default: densenet]\n",
      "         which_model_netG: unet_shift_triple             \n",
      "----------------- End -------------------\n"
     ]
    }
   ],
   "source": [
    "parser = get_parser(options=options)\n",
    "opt = parser.opt"
   ]
  },
  {
   "cell_type": "code",
   "execution_count": 32,
   "metadata": {},
   "outputs": [],
   "source": [
    "from models import create_model\n",
    "from collections import OrderedDict"
   ]
  },
  {
   "cell_type": "code",
   "execution_count": 33,
   "metadata": {},
   "outputs": [
    {
     "name": "stdout",
     "output_type": "stream",
     "text": [
      "shiftnet\n",
      "define_G [4, 3, 64, 'unet_shift_triple', tensor([[[[0, 0, 0,  ..., 0, 0, 0],\n",
      "          [0, 0, 0,  ..., 0, 0, 0],\n",
      "          [0, 0, 0,  ..., 0, 0, 0],\n",
      "          ...,\n",
      "          [0, 0, 0,  ..., 0, 0, 0],\n",
      "          [0, 0, 0,  ..., 0, 0, 0],\n",
      "          [0, 0, 0,  ..., 0, 0, 0]]]], device='cuda:3', dtype=torch.uint8), 'instance', False, 'normal', [3], 0.02] []\n",
      "get_norm_layer [] ['norm_type']\n",
      "input_nc 4\n",
      "output_nc 3\n",
      "which_model_netG unet_shift_triple\n",
      "[CREATED] MODEL\n",
      "UnetSkipConnectionBlock(\n",
      "  (model): Sequential(\n",
      "    (0): LeakyReLU(negative_slope=0.2, inplace)\n",
      "    (1): Conv2d(512, 512, kernel_size=(4, 4), stride=(2, 2), padding=(1, 1))\n",
      "    (2): ReLU(inplace)\n",
      "    (3): ConvTranspose2d(512, 512, kernel_size=(4, 4), stride=(2, 2), padding=(1, 1))\n",
      "    (4): InstanceNorm2d(512, eps=1e-05, momentum=0.1, affine=True, track_running_stats=False)\n",
      "  )\n",
      ")\n",
      "[CREATED] MODEL\n",
      "Constraint in netG:\n",
      "[InnerCos(skip: True ,strength: 1)]\n",
      "Shift in netG:\n",
      "[InnerShiftTriple( ,triple_weight 1)]\n",
      "initialize network with normal\n",
      "define_D [4, 64, 'basic', 3, 'instance', True, 'normal', [3], 0.02] []\n",
      "get_norm_layer [] ['norm_type']\n",
      "initialize network with normal\n",
      "get_scheduler [Adam (\n",
      "Parameter Group 0\n",
      "    amsgrad: False\n",
      "    betas: (0.5, 0.999)\n",
      "    eps: 1e-08\n",
      "    lr: 0.0002\n",
      "    weight_decay: 0\n",
      ")] []\n",
      "get_scheduler [Adam (\n",
      "Parameter Group 0\n",
      "    amsgrad: False\n",
      "    betas: (0.5, 0.999)\n",
      "    eps: 1e-08\n",
      "    lr: 0.0002\n",
      "    weight_decay: 0\n",
      ")] []\n",
      "---------- Networks initialized -------------\n",
      "[Network G] Total number of parameters : 54.945 M\n",
      "[Network D] Total number of parameters : 2.768 M\n",
      "-----------------------------------------------\n",
      "model [ShiftNetModel] was created\n"
     ]
    }
   ],
   "source": [
    "model = create_model(opt)"
   ]
  },
  {
   "cell_type": "code",
   "execution_count": 34,
   "metadata": {},
   "outputs": [
    {
     "data": {
      "text/plain": [
       "['20_12_2018_Class4_0',\n",
       " '3_01_2019_Class4_1',\n",
       " '17_12_2018_Class7_0',\n",
       " 'class3_b16',\n",
       " 'class4_0',\n",
       " 'class4_basic_b8',\n",
       " '3_01_2019_Class4_2',\n",
       " '4_1_19_c4.1',\n",
       " '22_12_2018_Class3_3',\n",
       " 'class3_basic_b8',\n",
       " '20_12_2018_Class3_1',\n",
       " '3_01_2019_Class3_0',\n",
       " '17_12_2018_Class10_0',\n",
       " 'class3_1',\n",
       " '20_12_2018_Class3_2',\n",
       " '3_01_2019_Class4_3',\n",
       " '20_12_2018_Class3_0',\n",
       " '4_1_19_c4.0',\n",
       " '14_12_2018_1_Class4_0',\n",
       " '17_12_2018_Class8_0',\n",
       " '14_12_2018_2_Class5_0',\n",
       " 'class4_1',\n",
       " '14_12_2018_Class2_0',\n",
       " '17_12_2018_Class10_1',\n",
       " '17_12_2018_Class9_0',\n",
       " '14_12_2018_Class3_1',\n",
       " 'class4_2',\n",
       " '14_12_2018_1_Class3_1',\n",
       " 'class3_basic_b4',\n",
       " '20_12_2018_Class3_3',\n",
       " '14_12_2018_Class3_0',\n",
       " '22_12_2018_Class4_0',\n",
       " '3_01_2019_Class4_0',\n",
       " 'batch_8',\n",
       " 'class3_0',\n",
       " '14_12_2018_Class5_0',\n",
       " 'results']"
      ]
     },
     "execution_count": 34,
     "metadata": {},
     "output_type": "execute_result"
    }
   ],
   "source": [
    "os.listdir('/mnt/hdd2/AIM/checkpoints/')"
   ]
  },
  {
   "cell_type": "code",
   "execution_count": 35,
   "metadata": {},
   "outputs": [],
   "source": [
    "path_weights = '/mnt/hdd2/AIM/checkpoints/3_01_2019_Class4_2/latest_net_G.pth'"
   ]
  },
  {
   "cell_type": "code",
   "execution_count": 36,
   "metadata": {},
   "outputs": [],
   "source": [
    "weights = torch.load(path_weights)"
   ]
  },
  {
   "cell_type": "code",
   "execution_count": 37,
   "metadata": {},
   "outputs": [
    {
     "data": {
      "text/plain": [
       "['model.model.0.weight',\n",
       " 'model.model.1.model.1.weight',\n",
       " 'model.model.1.model.3.model.1.weight',\n",
       " 'model.model.1.model.3.model.3.model.1.weight',\n",
       " 'model.model.1.model.3.model.3.model.3.model.1.weight',\n",
       " 'model.model.1.model.3.model.3.model.3.model.3.model.1.weight',\n",
       " 'model.model.1.model.3.model.3.model.3.model.3.model.3.model.1.weight',\n",
       " 'model.model.1.model.3.model.3.model.3.model.3.model.3.model.3.model.1.weight',\n",
       " 'model.model.1.model.3.model.3.model.3.model.3.model.3.model.3.model.3.weight',\n",
       " 'model.model.1.model.3.model.3.model.3.model.3.model.3.model.5.weight',\n",
       " 'model.model.1.model.3.model.3.model.3.model.3.model.5.weight',\n",
       " 'model.model.1.model.3.model.3.model.3.model.5.weight',\n",
       " 'model.model.1.model.3.model.3.model.5.weight',\n",
       " 'model.model.1.model.3.model.7.weight',\n",
       " 'model.model.1.model.5.weight',\n",
       " 'model.model.3.weight']"
      ]
     },
     "execution_count": 37,
     "metadata": {},
     "output_type": "execute_result"
    }
   ],
   "source": [
    "keys = list([k for k,v in weights.items() if v.dim() == 4])\n",
    "keys"
   ]
  },
  {
   "cell_type": "code",
   "execution_count": 38,
   "metadata": {},
   "outputs": [],
   "source": [
    "new_state = OrderedDict()\n",
    "for k in weights.keys():\n",
    "    new_k = 'module.'+k\n",
    "    new_state[new_k] = weights[k]"
   ]
  },
  {
   "cell_type": "code",
   "execution_count": 39,
   "metadata": {},
   "outputs": [
    {
     "data": {
      "text/plain": [
       "['module.model.model.0.weight',\n",
       " 'module.model.model.1.model.1.weight',\n",
       " 'module.model.model.1.model.3.model.1.weight',\n",
       " 'module.model.model.1.model.3.model.3.model.1.weight',\n",
       " 'module.model.model.1.model.3.model.3.model.3.model.1.weight',\n",
       " 'module.model.model.1.model.3.model.3.model.3.model.3.model.1.weight',\n",
       " 'module.model.model.1.model.3.model.3.model.3.model.3.model.3.model.1.weight',\n",
       " 'module.model.model.1.model.3.model.3.model.3.model.3.model.3.model.3.model.1.weight',\n",
       " 'module.model.model.1.model.3.model.3.model.3.model.3.model.3.model.3.model.3.weight',\n",
       " 'module.model.model.1.model.3.model.3.model.3.model.3.model.3.model.5.weight',\n",
       " 'module.model.model.1.model.3.model.3.model.3.model.3.model.5.weight',\n",
       " 'module.model.model.1.model.3.model.3.model.3.model.5.weight',\n",
       " 'module.model.model.1.model.3.model.3.model.5.weight',\n",
       " 'module.model.model.1.model.3.model.7.weight',\n",
       " 'module.model.model.1.model.5.weight',\n",
       " 'module.model.model.3.weight']"
      ]
     },
     "execution_count": 39,
     "metadata": {},
     "output_type": "execute_result"
    }
   ],
   "source": [
    "keys_m = list([k for k,v in model.netG.state_dict().items() if v.dim() == 4])\n",
    "keys_m"
   ]
  },
  {
   "cell_type": "code",
   "execution_count": 40,
   "metadata": {},
   "outputs": [],
   "source": [
    "model.netG.load_state_dict(new_state)\n",
    "keys_m = list([k for k,v in model.netG.state_dict().items() if v.dim() == 4])"
   ]
  },
  {
   "cell_type": "code",
   "execution_count": 41,
   "metadata": {},
   "outputs": [
    {
     "name": "stdout",
     "output_type": "stream",
     "text": [
      "model.model.0.weight\n",
      "tensor(0.0060)\n",
      "tensor(0.0060, device='cuda:3')\n",
      "model.model.1.model.1.weight\n",
      "tensor(-0.0278)\n",
      "tensor(-0.0278, device='cuda:3')\n",
      "model.model.1.model.3.model.1.weight\n",
      "tensor(-0.0438)\n",
      "tensor(-0.0438, device='cuda:3')\n",
      "model.model.1.model.3.model.3.model.1.weight\n",
      "tensor(-0.0414)\n",
      "tensor(-0.0414, device='cuda:3')\n",
      "model.model.1.model.3.model.3.model.3.model.1.weight\n",
      "tensor(-0.0751)\n",
      "tensor(-0.0751, device='cuda:3')\n",
      "model.model.1.model.3.model.3.model.3.model.3.model.1.weight\n",
      "tensor(0.0737)\n",
      "tensor(0.0737, device='cuda:3')\n",
      "model.model.1.model.3.model.3.model.3.model.3.model.3.model.1.weight\n",
      "tensor(0.0553)\n",
      "tensor(0.0553, device='cuda:3')\n",
      "model.model.1.model.3.model.3.model.3.model.3.model.3.model.3.model.1.weight\n",
      "tensor(0.0016)\n",
      "tensor(0.0016, device='cuda:3')\n",
      "model.model.1.model.3.model.3.model.3.model.3.model.3.model.3.model.3.weight\n",
      "tensor(-0.0172)\n",
      "tensor(-0.0172, device='cuda:3')\n",
      "model.model.1.model.3.model.3.model.3.model.3.model.3.model.5.weight\n",
      "tensor(-0.0003)\n",
      "tensor(-0.0003, device='cuda:3')\n",
      "model.model.1.model.3.model.3.model.3.model.3.model.5.weight\n",
      "tensor(0.0398)\n",
      "tensor(0.0398, device='cuda:3')\n",
      "model.model.1.model.3.model.3.model.3.model.5.weight\n",
      "tensor(0.0537)\n",
      "tensor(0.0537, device='cuda:3')\n",
      "model.model.1.model.3.model.3.model.5.weight\n",
      "tensor(0.0696)\n",
      "tensor(0.0696, device='cuda:3')\n",
      "model.model.1.model.3.model.7.weight\n",
      "tensor(0.0056)\n",
      "tensor(0.0056, device='cuda:3')\n",
      "model.model.1.model.5.weight\n",
      "tensor(0.0138)\n",
      "tensor(0.0138, device='cuda:3')\n",
      "model.model.3.weight\n",
      "tensor(0.0358)\n",
      "tensor(0.0358, device='cuda:3')\n"
     ]
    }
   ],
   "source": [
    "for n in keys:\n",
    "    print(n)\n",
    "    print(new_state['module.'+n][0,0,0,0])\n",
    "    print(model.netG.state_dict()['module.'+n][0,0,0,0])"
   ]
  },
  {
   "cell_type": "code",
   "execution_count": 42,
   "metadata": {},
   "outputs": [],
   "source": [
    "model.netG = model.netG.float().cuda().eval()"
   ]
  },
  {
   "cell_type": "markdown",
   "metadata": {},
   "source": [
    "# CREATE DATASET"
   ]
  },
  {
   "cell_type": "code",
   "execution_count": 43,
   "metadata": {},
   "outputs": [],
   "source": [
    "from data.data_loader import CreateDataLoader\n",
    "from util.util import tensor2im, hist_match"
   ]
  },
  {
   "cell_type": "code",
   "execution_count": 44,
   "metadata": {},
   "outputs": [
    {
     "name": "stdout",
     "output_type": "stream",
     "text": [
      "CustomDatasetDataLoader\n",
      "dataset [AlignedDatasetResized] was created\n"
     ]
    }
   ],
   "source": [
    "data_loader = CreateDataLoader(opt)\n",
    "dataset = data_loader.load_data()"
   ]
  },
  {
   "cell_type": "code",
   "execution_count": 45,
   "metadata": {},
   "outputs": [],
   "source": [
    "def mask2tensor(mask):\n",
    "    return torch.ByteTensor(mask[np.newaxis, ...][np.newaxis, ...]).cuda()\n"
   ]
  },
  {
   "cell_type": "code",
   "execution_count": 89,
   "metadata": {},
   "outputs": [
    {
     "name": "stdout",
     "output_type": "stream",
     "text": [
      "torch.Size([3, 256, 256])\n",
      "torch.Size([3, 256, 256])\n",
      "torch.Size([3, 256, 256])\n",
      "torch.Size([3, 256, 256])\n",
      "torch.Size([3, 256, 256])\n"
     ]
    },
    {
     "data": {
      "image/png": "[encoded data removed]",
      "text/plain": [
       "<Figure size 432x288 with 1 Axes>"
      ]
     },
     "metadata": {
      "needs_background": "light"
     },
     "output_type": "display_data"
    },
    {
     "data": {
      "image/png": "[encoded data removed]",
      "text/plain": [
       "<Figure size 432x288 with 1 Axes>"
      ]
     },
     "metadata": {
      "needs_background": "light"
     },
     "output_type": "display_data"
    },
    {
     "ename": "RuntimeError",
     "evalue": "Expected object of type torch.cuda.ByteTensor but found type torch.cuda.FloatTensor for argument #2 'mask'",
     "output_type": "error",
     "traceback": [
      "\u001b[0;31m---------------------------------------------------------------------------\u001b[0m",
      "\u001b[0;31mRuntimeError\u001b[0m                              Traceback (most recent call last)",
      "\u001b[0;32m<ipython-input-89-19ca4ffc4259>\u001b[0m in \u001b[0;36m<module>\u001b[0;34m\u001b[0m\n\u001b[1;32m     11\u001b[0m \u001b[0;34m\u001b[0m\u001b[0m\n\u001b[1;32m     12\u001b[0m     \u001b[0mmask\u001b[0m \u001b[0;34m=\u001b[0m \u001b[0mmask2tensor\u001b[0m\u001b[0;34m(\u001b[0m\u001b[0mmask\u001b[0m\u001b[0;34m)\u001b[0m\u001b[0;34m\u001b[0m\u001b[0m\n\u001b[0;32m---> 13\u001b[0;31m     \u001b[0mmodel\u001b[0m\u001b[0;34m.\u001b[0m\u001b[0mset_input\u001b[0m\u001b[0;34m(\u001b[0m\u001b[0mdata\u001b[0m\u001b[0;34m)\u001b[0m\u001b[0;31m#_with_mask(data, mask)\u001b[0m\u001b[0;34m\u001b[0m\u001b[0m\n\u001b[0m\u001b[1;32m     14\u001b[0m \u001b[0;34m\u001b[0m\u001b[0m\n\u001b[1;32m     15\u001b[0m     \u001b[0mreal_A\u001b[0m \u001b[0;34m=\u001b[0m \u001b[0mmodel\u001b[0m\u001b[0;34m.\u001b[0m\u001b[0mreal_A\u001b[0m\u001b[0;34m\u001b[0m\u001b[0m\n",
      "\u001b[0;32m~/projects/original/Shift-Net_pytorch/models/shift_net/shiftnet_model.py\u001b[0m in \u001b[0;36mset_input\u001b[0;34m(self, input)\u001b[0m\n\u001b[1;32m    168\u001b[0m \u001b[0;34m\u001b[0m\u001b[0m\n\u001b[1;32m    169\u001b[0m         \u001b[0;32mfor\u001b[0m \u001b[0mi\u001b[0m \u001b[0;32min\u001b[0m \u001b[0mrange\u001b[0m\u001b[0;34m(\u001b[0m\u001b[0mreal_A\u001b[0m\u001b[0;34m.\u001b[0m\u001b[0msize\u001b[0m\u001b[0;34m(\u001b[0m\u001b[0;36m1\u001b[0m\u001b[0;34m)\u001b[0m\u001b[0;34m)\u001b[0m\u001b[0;34m:\u001b[0m\u001b[0;34m\u001b[0m\u001b[0m\n\u001b[0;32m--> 170\u001b[0;31m             \u001b[0mreal_A\u001b[0m\u001b[0;34m.\u001b[0m\u001b[0mnarrow\u001b[0m\u001b[0;34m(\u001b[0m\u001b[0;36m1\u001b[0m\u001b[0;34m,\u001b[0m\u001b[0mi\u001b[0m\u001b[0;34m,\u001b[0m\u001b[0;36m1\u001b[0m\u001b[0;34m)\u001b[0m\u001b[0;34m.\u001b[0m\u001b[0mmasked_fill_\u001b[0m\u001b[0;34m(\u001b[0m\u001b[0mself\u001b[0m\u001b[0;34m.\u001b[0m\u001b[0mmask_global\u001b[0m\u001b[0;34m,\u001b[0m \u001b[0;36m0.\u001b[0m\u001b[0;34m)\u001b[0m\u001b[0;31m#2*123.0/255.0 - 1.0\u001b[0m\u001b[0;34m\u001b[0m\u001b[0m\n\u001b[0m\u001b[1;32m    171\u001b[0m \u001b[0;34m\u001b[0m\u001b[0m\n\u001b[1;32m    172\u001b[0m         \u001b[0;32mif\u001b[0m \u001b[0mself\u001b[0m\u001b[0;34m.\u001b[0m\u001b[0mopt\u001b[0m\u001b[0;34m.\u001b[0m\u001b[0madd_mask2input_gen\u001b[0m\u001b[0;34m:\u001b[0m\u001b[0;34m\u001b[0m\u001b[0m\n",
      "\u001b[0;31mRuntimeError\u001b[0m: Expected object of type torch.cuda.ByteTensor but found type torch.cuda.FloatTensor for argument #2 'mask'"
     ]
    }
   ],
   "source": [
    "for i, data in enumerate(dataset):\n",
    "    \n",
    "    img_A = data['A']\n",
    "    img_A = tensor2im(data['A'])\n",
    "    plt.imshow(img_A)\n",
    "    plt.show()\n",
    "    \n",
    "    mask = masks[0]\n",
    "    plt.imshow(mask)\n",
    "    plt.show()\n",
    "    \n",
    "    mask = mask2tensor(mask)\n",
    "    model.set_input(data)#_with_mask(data, mask)\n",
    "    \n",
    "    real_A = model.real_A\n",
    "    real_A = tensor2im(real_A)\n",
    "    plt.imshow(real_A[:, :, :3])\n",
    "    plt.show()\n",
    "    \n",
    "    model.forward()  \n",
    "    \n",
    "    fake_B = model.get_current_visuals()['fake_B']\n",
    "    print(fake_B.shape)\n",
    "    fake_B = tensor2im(fake_B)\n",
    "    plt.imshow(fake_B)\n",
    "    plt.show()\n",
    "    \n",
    "    break"
   ]
  },
  {
   "cell_type": "code",
   "execution_count": null,
   "metadata": {},
   "outputs": [],
   "source": [
    "import scipy"
   ]
  },
  {
   "cell_type": "code",
   "execution_count": null,
   "metadata": {},
   "outputs": [],
   "source": [
    "from scipy.signal import convolve2d"
   ]
  },
  {
   "cell_type": "code",
   "execution_count": null,
   "metadata": {},
   "outputs": [],
   "source": [
    "k = 11\n",
    "kernel = np.ones((k, k))/k**2"
   ]
  },
  {
   "cell_type": "code",
   "execution_count": null,
   "metadata": {},
   "outputs": [],
   "source": [
    "from skimage.filters import *\n",
    "from skimage.morphology import *"
   ]
  },
  {
   "cell_type": "code",
   "execution_count": null,
   "metadata": {},
   "outputs": [],
   "source": [
    "from skimage.filters import gaussian\n",
    "max_error = []\n",
    "for i, data in enumerate(dataset):\n",
    "    \n",
    "    #print('i {}'.format(i))\n",
    "    img = data['A']\n",
    "    img_A = tensor2im(data['A'])\n",
    "    plt.imshow(img_A)\n",
    "    plt.show()\n",
    "    \n",
    "    fake_holder = np.zeros((256, 256, 3))\n",
    "    fake_sum = np.zeros((256, 256, 1))\n",
    "    \n",
    "    for mask in masks:\n",
    "        m = mask2tensor(mask)\n",
    "        model.set_input_with_mask(data, m)\n",
    "        model.forward()\n",
    "\n",
    "        fake_B = model.fake_B\n",
    "        fake_B = tensor2im(fake_B)\n",
    "        #print(fake_B.min(), fake_B.max())\n",
    "        #plt.imshow(fake_B)\n",
    "        #plt.show()\n",
    "        #break\n",
    "        mask = mask[..., np.newaxis]\n",
    "        m = np.tile(mask, (1, 1, 3))\n",
    "        fake_holder[m == 1] += fake_B[m == 1]\n",
    "        fake_sum += mask\n",
    "    \n",
    "    img_A = img_A.astype(np.float)\n",
    "    img_A-=img_A.min()\n",
    "    img_A/=img_A.max()\n",
    "\n",
    "    rec = fake_holder/fake_sum.astype(np.float)\n",
    "\n",
    "    rec-=rec.min()\n",
    "    rec/=rec.max()    \n",
    "    rec = hist_match(rec, img_A)\n",
    "    #print(rec.min(), rec.max())\n",
    "    img_A = img_A.astype(np.float)\n",
    "    rec = rec.astype(np.float)\n",
    "    \n",
    "    plt.imshow(rec)\n",
    "    plt.show()\n",
    "    \n",
    "    diff = np.square(img_A - rec).astype(np.float)\n",
    "\n",
    "    \n",
    "    diff = diff.mean(-1)\n",
    "    print(np.max(diff), np.mean(diff))\n",
    "\n",
    "    print(diff.shape)\n",
    "    #diff[100:175, 100:175] = 0\n",
    "    \n",
    "    plt.imshow(diff)\n",
    "    plt.show()\n",
    "    diff[diff < np.percentile(diff, 99)] = 0\n",
    "    diff[diff < threshold_otsu(diff[np.where(diff>0)])] = 0\n",
    "    diff = convolve2d(diff, disk(5))\n",
    "    diff[diff < threshold_otsu(diff[np.where(diff>0)])] = 0\n",
    "    #diff = diff > 0\n",
    "    plt.contourf(diff[::-1], cmap='jet')\n",
    "    plt.show()\n",
    "    break"
   ]
  },
  {
   "cell_type": "code",
   "execution_count": 47,
   "metadata": {},
   "outputs": [
    {
     "ename": "NameError",
     "evalue": "name 'sobel' is not defined",
     "output_type": "error",
     "traceback": [
      "\u001b[0;31m---------------------------------------------------------------------------\u001b[0m",
      "\u001b[0;31mNameError\u001b[0m                                 Traceback (most recent call last)",
      "\u001b[0;32m<ipython-input-47-c8317db37976>\u001b[0m in \u001b[0;36m<module>\u001b[0;34m\u001b[0m\n\u001b[0;32m----> 1\u001b[0;31m \u001b[0mplt\u001b[0m\u001b[0;34m.\u001b[0m\u001b[0mimshow\u001b[0m\u001b[0;34m(\u001b[0m\u001b[0msobel\u001b[0m\u001b[0;34m(\u001b[0m\u001b[0mimg_A\u001b[0m\u001b[0;34m.\u001b[0m\u001b[0mmean\u001b[0m\u001b[0;34m(\u001b[0m\u001b[0;34m-\u001b[0m\u001b[0;36m1\u001b[0m\u001b[0;34m)\u001b[0m\u001b[0;34m)\u001b[0m\u001b[0;34m)\u001b[0m\u001b[0;34m\u001b[0m\u001b[0m\n\u001b[0m",
      "\u001b[0;31mNameError\u001b[0m: name 'sobel' is not defined"
     ]
    }
   ],
   "source": [
    "plt.imshow(sobel(img_A.mean(-1)))"
   ]
  },
  {
   "cell_type": "code",
   "execution_count": 48,
   "metadata": {},
   "outputs": [],
   "source": [
    "nin = 3\n",
    "Gx = nn.Conv2d(nin, 1, kernel_size=(3, 3), padding=1)"
   ]
  },
  {
   "cell_type": "code",
   "execution_count": 49,
   "metadata": {},
   "outputs": [
    {
     "data": {
      "text/plain": [
       "torch.Size([1, 3, 3, 3])"
      ]
     },
     "execution_count": 49,
     "metadata": {},
     "output_type": "execute_result"
    }
   ],
   "source": [
    "Gx.weight.data.shape"
   ]
  },
  {
   "cell_type": "code",
   "execution_count": 50,
   "metadata": {},
   "outputs": [],
   "source": [
    "gx = torch.Tensor([[1, 0, -1],\n",
    "[2, 0, -2],\n",
    "[1, 0, -1]])"
   ]
  },
  {
   "cell_type": "code",
   "execution_count": 51,
   "metadata": {},
   "outputs": [
    {
     "data": {
      "text/plain": [
       "tensor([[[[-0.0574,  0.0613, -0.0600],\n",
       "          [-0.1608,  0.1582,  0.1320],\n",
       "          [ 0.0833, -0.0578, -0.0556]],\n",
       "\n",
       "         [[ 0.0524, -0.0379, -0.1521],\n",
       "          [ 0.1662,  0.1020,  0.1167],\n",
       "          [-0.1160, -0.0544, -0.0982]],\n",
       "\n",
       "         [[ 0.1245,  0.1083,  0.1753],\n",
       "          [-0.1243, -0.0927,  0.0855],\n",
       "          [ 0.0345,  0.0969,  0.0350]]]])"
      ]
     },
     "execution_count": 51,
     "metadata": {},
     "output_type": "execute_result"
    }
   ],
   "source": [
    "Gx.weight.data"
   ]
  },
  {
   "cell_type": "code",
   "execution_count": 52,
   "metadata": {},
   "outputs": [
    {
     "data": {
      "text/plain": [
       "tensor([[[-0.0574,  0.0613, -0.0600],\n",
       "         [-0.1608,  0.1582,  0.1320],\n",
       "         [ 0.0833, -0.0578, -0.0556]],\n",
       "\n",
       "        [[ 0.0524, -0.0379, -0.1521],\n",
       "         [ 0.1662,  0.1020,  0.1167],\n",
       "         [-0.1160, -0.0544, -0.0982]],\n",
       "\n",
       "        [[ 0.1245,  0.1083,  0.1753],\n",
       "         [-0.1243, -0.0927,  0.0855],\n",
       "         [ 0.0345,  0.0969,  0.0350]]])"
      ]
     },
     "execution_count": 52,
     "metadata": {},
     "output_type": "execute_result"
    }
   ],
   "source": [
    "Gx.weight.data[0]"
   ]
  },
  {
   "cell_type": "code",
   "execution_count": 53,
   "metadata": {},
   "outputs": [
    {
     "ename": "NameError",
     "evalue": "name 'depthwise' is not defined",
     "output_type": "error",
     "traceback": [
      "\u001b[0;31m---------------------------------------------------------------------------\u001b[0m",
      "\u001b[0;31mNameError\u001b[0m                                 Traceback (most recent call last)",
      "\u001b[0;32m<ipython-input-53-f18e298f335b>\u001b[0m in \u001b[0;36m<module>\u001b[0;34m\u001b[0m\n\u001b[0;32m----> 1\u001b[0;31m \u001b[0mdepthwise\u001b[0m\u001b[0;34m.\u001b[0m\u001b[0mweight\u001b[0m\u001b[0;34m.\u001b[0m\u001b[0mdata\u001b[0m\u001b[0;34m.\u001b[0m\u001b[0mtolist\u001b[0m\u001b[0;34m(\u001b[0m\u001b[0;34m)\u001b[0m\u001b[0;34m\u001b[0m\u001b[0m\n\u001b[0m",
      "\u001b[0;31mNameError\u001b[0m: name 'depthwise' is not defined"
     ]
    }
   ],
   "source": [
    "depthwise.weight.data.tolist()"
   ]
  },
  {
   "cell_type": "code",
   "execution_count": 54,
   "metadata": {},
   "outputs": [],
   "source": [
    "img = torch.FloatTensor(torch.randn(1, 3, 32, 32))"
   ]
  },
  {
   "cell_type": "code",
   "execution_count": 55,
   "metadata": {},
   "outputs": [
    {
     "data": {
      "text/plain": [
       "tensor([[[[ 0.6490,  0.1910,  0.0003,  ...,  0.2069, -0.3470, -0.0269],\n",
       "          [-0.5513,  0.6157, -0.1885,  ...,  0.1916,  0.5043,  0.1038],\n",
       "          [ 0.7396, -0.0732, -0.2582,  ...,  0.0563,  0.4245,  0.1635],\n",
       "          ...,\n",
       "          [-0.0040,  0.3905,  0.3970,  ...,  0.0372,  0.6464,  0.3065],\n",
       "          [ 0.3519, -0.4332, -0.5845,  ..., -0.3326,  0.3504,  1.0338],\n",
       "          [-0.0883, -0.3375,  0.4454,  ..., -0.8369, -0.1705, -0.3929]]]],\n",
       "       grad_fn=<ThnnConv2DBackward>)"
      ]
     },
     "execution_count": 55,
     "metadata": {},
     "output_type": "execute_result"
    }
   ],
   "source": [
    "Gx(img)"
   ]
  },
  {
   "cell_type": "code",
   "execution_count": 56,
   "metadata": {},
   "outputs": [],
   "source": [
    "def args_displayer(func):\n",
    "    def wrapper(*args, **kwargs):\n",
    "        print(func.__name__, args, kwargs)\n",
    "        return func(*args, **kwargs)\n",
    "    return wrapper"
   ]
  },
  {
   "cell_type": "code",
   "execution_count": 57,
   "metadata": {},
   "outputs": [],
   "source": [
    "@args_displayer\n",
    "def he(hello=True):\n",
    "    print(hello)\n",
    "    pass"
   ]
  },
  {
   "cell_type": "code",
   "execution_count": 58,
   "metadata": {},
   "outputs": [
    {
     "name": "stdout",
     "output_type": "stream",
     "text": [
      "he () {'hello': False}\n",
      "False\n"
     ]
    }
   ],
   "source": [
    "he(hello=False)"
   ]
  },
  {
   "cell_type": "code",
   "execution_count": 92,
   "metadata": {},
   "outputs": [],
   "source": [
    "import models.modules.losses as losses"
   ]
  },
  {
   "cell_type": "code",
   "execution_count": 103,
   "metadata": {},
   "outputs": [],
   "source": [
    "target = losses.to_categorical(data['A'], 0, mask)"
   ]
  },
  {
   "cell_type": "code",
   "execution_count": 104,
   "metadata": {},
   "outputs": [
    {
     "data": {
      "text/plain": [
       "torch.Size([1, 1, 256, 256])"
      ]
     },
     "execution_count": 104,
     "metadata": {},
     "output_type": "execute_result"
    }
   ],
   "source": [
    "mask.shape"
   ]
  },
  {
   "cell_type": "code",
   "execution_count": 105,
   "metadata": {},
   "outputs": [
    {
     "data": {
      "text/plain": [
       "torch.Size([1, 3, 256, 256])"
      ]
     },
     "execution_count": 105,
     "metadata": {},
     "output_type": "execute_result"
    }
   ],
   "source": [
    "target.shape"
   ]
  },
  {
   "cell_type": "code",
   "execution_count": 108,
   "metadata": {},
   "outputs": [
    {
     "data": {
      "text/plain": [
       "<matplotlib.image.AxesImage at 0x7f94d624b748>"
      ]
     },
     "execution_count": 108,
     "metadata": {},
     "output_type": "execute_result"
    },
    {
     "data": {
      "image/png": "[encoded data removed]",
      "text/plain": [
       "<Figure size 432x288 with 1 Axes>"
      ]
     },
     "metadata": {
      "needs_background": "light"
     },
     "output_type": "display_data"
    }
   ],
   "source": [
    "plt.imshow(target[0, 2])"
   ]
  },
  {
   "cell_type": "code",
   "execution_count": null,
   "metadata": {},
   "outputs": [],
   "source": []
  },
  {
   "cell_type": "code",
   "execution_count": null,
   "metadata": {},
   "outputs": [],
   "source": []
  },
  {
   "cell_type": "code",
   "execution_count": null,
   "metadata": {},
   "outputs": [],
   "source": []
  },
  {
   "cell_type": "code",
   "execution_count": null,
   "metadata": {},
   "outputs": [],
   "source": []
  },
  {
   "cell_type": "code",
   "execution_count": null,
   "metadata": {},
   "outputs": [],
   "source": []
  },
  {
   "cell_type": "code",
   "execution_count": null,
   "metadata": {},
   "outputs": [],
   "source": []
  },
  {
   "cell_type": "code",
   "execution_count": null,
   "metadata": {},
   "outputs": [],
   "source": []
  },
  {
   "cell_type": "code",
   "execution_count": null,
   "metadata": {},
   "outputs": [],
   "source": []
  },
  {
   "cell_type": "code",
   "execution_count": null,
   "metadata": {},
   "outputs": [],
   "source": []
  },
  {
   "cell_type": "code",
   "execution_count": null,
   "metadata": {},
   "outputs": [],
   "source": []
  },
  {
   "cell_type": "code",
   "execution_count": null,
   "metadata": {},
   "outputs": [],
   "source": []
  },
  {
   "cell_type": "code",
   "execution_count": null,
   "metadata": {},
   "outputs": [],
   "source": []
  },
  {
   "cell_type": "code",
   "execution_count": null,
   "metadata": {},
   "outputs": [],
   "source": []
  },
  {
   "cell_type": "code",
   "execution_count": null,
   "metadata": {},
   "outputs": [],
   "source": []
  },
  {
   "cell_type": "code",
   "execution_count": null,
   "metadata": {},
   "outputs": [],
   "source": []
  },
  {
   "cell_type": "code",
   "execution_count": null,
   "metadata": {},
   "outputs": [],
   "source": []
  },
  {
   "cell_type": "code",
   "execution_count": null,
   "metadata": {},
   "outputs": [],
   "source": []
  },
  {
   "cell_type": "code",
   "execution_count": null,
   "metadata": {},
   "outputs": [],
   "source": []
  },
  {
   "cell_type": "code",
   "execution_count": null,
   "metadata": {},
   "outputs": [],
   "source": []
  },
  {
   "cell_type": "code",
   "execution_count": null,
   "metadata": {},
   "outputs": [],
   "source": []
  },
  {
   "cell_type": "code",
   "execution_count": null,
   "metadata": {},
   "outputs": [],
   "source": []
  },
  {
   "cell_type": "code",
   "execution_count": null,
   "metadata": {},
   "outputs": [],
   "source": []
  },
  {
   "cell_type": "code",
   "execution_count": null,
   "metadata": {},
   "outputs": [],
   "source": []
  },
  {
   "cell_type": "code",
   "execution_count": null,
   "metadata": {},
   "outputs": [],
   "source": []
  },
  {
   "cell_type": "code",
   "execution_count": null,
   "metadata": {},
   "outputs": [],
   "source": []
  },
  {
   "cell_type": "code",
   "execution_count": null,
   "metadata": {},
   "outputs": [],
   "source": []
  },
  {
   "cell_type": "code",
   "execution_count": null,
   "metadata": {},
   "outputs": [],
   "source": []
  },
  {
   "cell_type": "code",
   "execution_count": null,
   "metadata": {},
   "outputs": [],
   "source": []
  },
  {
   "cell_type": "code",
   "execution_count": null,
   "metadata": {},
   "outputs": [],
   "source": []
  },
  {
   "cell_type": "code",
   "execution_count": null,
   "metadata": {},
   "outputs": [],
   "source": []
  },
  {
   "cell_type": "code",
   "execution_count": null,
   "metadata": {},
   "outputs": [],
   "source": []
  },
  {
   "cell_type": "code",
   "execution_count": null,
   "metadata": {},
   "outputs": [],
   "source": []
  },
  {
   "cell_type": "code",
   "execution_count": null,
   "metadata": {},
   "outputs": [],
   "source": []
  },
  {
   "cell_type": "code",
   "execution_count": null,
   "metadata": {},
   "outputs": [],
   "source": []
  },
  {
   "cell_type": "code",
   "execution_count": null,
   "metadata": {},
   "outputs": [],
   "source": []
  },
  {
   "cell_type": "code",
   "execution_count": null,
   "metadata": {},
   "outputs": [],
   "source": []
  },
  {
   "cell_type": "code",
   "execution_count": null,
   "metadata": {},
   "outputs": [],
   "source": []
  },
  {
   "cell_type": "code",
   "execution_count": null,
   "metadata": {},
   "outputs": [],
   "source": []
  },
  {
   "cell_type": "code",
   "execution_count": null,
   "metadata": {},
   "outputs": [],
   "source": []
  },
  {
   "cell_type": "code",
   "execution_count": null,
   "metadata": {},
   "outputs": [],
   "source": []
  },
  {
   "cell_type": "code",
   "execution_count": null,
   "metadata": {},
   "outputs": [],
   "source": []
  },
  {
   "cell_type": "code",
   "execution_count": null,
   "metadata": {},
   "outputs": [],
   "source": []
  },
  {
   "cell_type": "code",
   "execution_count": null,
   "metadata": {},
   "outputs": [],
   "source": []
  },
  {
   "cell_type": "code",
   "execution_count": null,
   "metadata": {},
   "outputs": [],
   "source": []
  },
  {
   "cell_type": "code",
   "execution_count": null,
   "metadata": {},
   "outputs": [],
   "source": []
  },
  {
   "cell_type": "code",
   "execution_count": null,
   "metadata": {},
   "outputs": [],
   "source": []
  },
  {
   "cell_type": "code",
   "execution_count": null,
   "metadata": {},
   "outputs": [],
   "source": []
  },
  {
   "cell_type": "code",
   "execution_count": null,
   "metadata": {},
   "outputs": [],
   "source": []
  },
  {
   "cell_type": "code",
   "execution_count": null,
   "metadata": {},
   "outputs": [],
   "source": []
  },
  {
   "cell_type": "code",
   "execution_count": null,
   "metadata": {},
   "outputs": [],
   "source": []
  },
  {
   "cell_type": "code",
   "execution_count": null,
   "metadata": {},
   "outputs": [],
   "source": []
  },
  {
   "cell_type": "code",
   "execution_count": null,
   "metadata": {},
   "outputs": [],
   "source": []
  },
  {
   "cell_type": "code",
   "execution_count": null,
   "metadata": {},
   "outputs": [],
   "source": []
  },
  {
   "cell_type": "code",
   "execution_count": null,
   "metadata": {},
   "outputs": [],
   "source": []
  },
  {
   "cell_type": "code",
   "execution_count": null,
   "metadata": {},
   "outputs": [],
   "source": []
  },
  {
   "cell_type": "code",
   "execution_count": null,
   "metadata": {},
   "outputs": [],
   "source": []
  },
  {
   "cell_type": "code",
   "execution_count": null,
   "metadata": {},
   "outputs": [],
   "source": []
  },
  {
   "cell_type": "code",
   "execution_count": null,
   "metadata": {},
   "outputs": [],
   "source": []
  },
  {
   "cell_type": "code",
   "execution_count": null,
   "metadata": {},
   "outputs": [],
   "source": []
  },
  {
   "cell_type": "code",
   "execution_count": null,
   "metadata": {},
   "outputs": [],
   "source": []
  },
  {
   "cell_type": "code",
   "execution_count": null,
   "metadata": {},
   "outputs": [],
   "source": []
  },
  {
   "cell_type": "code",
   "execution_count": null,
   "metadata": {},
   "outputs": [],
   "source": []
  },
  {
   "cell_type": "code",
   "execution_count": null,
   "metadata": {},
   "outputs": [],
   "source": []
  },
  {
   "cell_type": "code",
   "execution_count": null,
   "metadata": {},
   "outputs": [],
   "source": []
  },
  {
   "cell_type": "code",
   "execution_count": null,
   "metadata": {},
   "outputs": [],
   "source": []
  },
  {
   "cell_type": "code",
   "execution_count": null,
   "metadata": {},
   "outputs": [],
   "source": []
  },
  {
   "cell_type": "code",
   "execution_count": null,
   "metadata": {},
   "outputs": [],
   "source": []
  },
  {
   "cell_type": "code",
   "execution_count": null,
   "metadata": {},
   "outputs": [],
   "source": []
  },
  {
   "cell_type": "code",
   "execution_count": null,
   "metadata": {},
   "outputs": [],
   "source": []
  },
  {
   "cell_type": "code",
   "execution_count": null,
   "metadata": {},
   "outputs": [],
   "source": []
  },
  {
   "cell_type": "code",
   "execution_count": null,
   "metadata": {},
   "outputs": [],
   "source": []
  },
  {
   "cell_type": "code",
   "execution_count": null,
   "metadata": {},
   "outputs": [],
   "source": []
  },
  {
   "cell_type": "code",
   "execution_count": null,
   "metadata": {},
   "outputs": [],
   "source": []
  },
  {
   "cell_type": "code",
   "execution_count": null,
   "metadata": {},
   "outputs": [],
   "source": []
  },
  {
   "cell_type": "code",
   "execution_count": null,
   "metadata": {},
   "outputs": [],
   "source": []
  },
  {
   "cell_type": "code",
   "execution_count": null,
   "metadata": {},
   "outputs": [],
   "source": []
  },
  {
   "cell_type": "code",
   "execution_count": null,
   "metadata": {},
   "outputs": [],
   "source": []
  },
  {
   "cell_type": "code",
   "execution_count": null,
   "metadata": {},
   "outputs": [],
   "source": []
  },
  {
   "cell_type": "code",
   "execution_count": null,
   "metadata": {},
   "outputs": [],
   "source": []
  },
  {
   "cell_type": "code",
   "execution_count": null,
   "metadata": {},
   "outputs": [],
   "source": []
  },
  {
   "cell_type": "code",
   "execution_count": null,
   "metadata": {},
   "outputs": [],
   "source": []
  },
  {
   "cell_type": "code",
   "execution_count": null,
   "metadata": {},
   "outputs": [],
   "source": []
  },
  {
   "cell_type": "code",
   "execution_count": null,
   "metadata": {},
   "outputs": [],
   "source": []
  },
  {
   "cell_type": "code",
   "execution_count": null,
   "metadata": {},
   "outputs": [],
   "source": []
  },
  {
   "cell_type": "code",
   "execution_count": null,
   "metadata": {},
   "outputs": [],
   "source": []
  },
  {
   "cell_type": "code",
   "execution_count": null,
   "metadata": {},
   "outputs": [],
   "source": []
  },
  {
   "cell_type": "code",
   "execution_count": null,
   "metadata": {},
   "outputs": [],
   "source": []
  },
  {
   "cell_type": "code",
   "execution_count": null,
   "metadata": {},
   "outputs": [],
   "source": []
  },
  {
   "cell_type": "code",
   "execution_count": null,
   "metadata": {},
   "outputs": [],
   "source": []
  },
  {
   "cell_type": "code",
   "execution_count": null,
   "metadata": {},
   "outputs": [],
   "source": []
  },
  {
   "cell_type": "code",
   "execution_count": null,
   "metadata": {},
   "outputs": [],
   "source": []
  },
  {
   "cell_type": "code",
   "execution_count": null,
   "metadata": {},
   "outputs": [],
   "source": []
  },
  {
   "cell_type": "code",
   "execution_count": null,
   "metadata": {},
   "outputs": [],
   "source": []
  },
  {
   "cell_type": "code",
   "execution_count": null,
   "metadata": {},
   "outputs": [],
   "source": []
  },
  {
   "cell_type": "code",
   "execution_count": null,
   "metadata": {},
   "outputs": [],
   "source": []
  },
  {
   "cell_type": "code",
   "execution_count": null,
   "metadata": {},
   "outputs": [],
   "source": []
  },
  {
   "cell_type": "code",
   "execution_count": null,
   "metadata": {},
   "outputs": [],
   "source": []
  },
  {
   "cell_type": "code",
   "execution_count": null,
   "metadata": {},
   "outputs": [],
   "source": []
  },
  {
   "cell_type": "code",
   "execution_count": null,
   "metadata": {},
   "outputs": [],
   "source": []
  },
  {
   "cell_type": "code",
   "execution_count": null,
   "metadata": {},
   "outputs": [],
   "source": []
  },
  {
   "cell_type": "code",
   "execution_count": null,
   "metadata": {},
   "outputs": [],
   "source": []
  },
  {
   "cell_type": "code",
   "execution_count": null,
   "metadata": {},
   "outputs": [],
   "source": []
  },
  {
   "cell_type": "code",
   "execution_count": null,
   "metadata": {},
   "outputs": [],
   "source": []
  },
  {
   "cell_type": "code",
   "execution_count": null,
   "metadata": {},
   "outputs": [],
   "source": []
  }
 ],
 "metadata": {
  "kernelspec": {
   "display_name": "Python 3",
   "language": "python",
   "name": "python3"
  },
  "language_info": {
   "codemirror_mode": {
    "name": "ipython",
    "version": 3
   },
   "file_extension": ".py",
   "mimetype": "text/x-python",
   "name": "python",
   "nbconvert_exporter": "python",
   "pygments_lexer": "ipython3",
   "version": "3.6.4"
  }
 },
 "nbformat": 4,
 "nbformat_minor": 2
}
