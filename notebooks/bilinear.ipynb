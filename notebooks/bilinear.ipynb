{
 "cells": [
  {
   "cell_type": "code",
   "execution_count": 1,
   "metadata": {},
   "outputs": [],
   "source": [
    "import torch\n",
    "from torch import nn\n",
    "from torch.nn import functional as F"
   ]
  },
  {
   "cell_type": "markdown",
   "metadata": {},
   "source": [
    "# IMPLEMENTATION BILINEAR ATTENTION FOR SHIFT NET"
   ]
  },
  {
   "cell_type": "code",
   "execution_count": 2,
   "metadata": {},
   "outputs": [],
   "source": [
    "x = torch.randn((256, 32, 32)).cuda()\n",
    "y = torch.randn((256, 32, 32)).cuda()"
   ]
  },
  {
   "cell_type": "code",
   "execution_count": 3,
   "metadata": {},
   "outputs": [],
   "source": [
    "stride = 1\n",
    "patch_size = 1"
   ]
  },
  {
   "cell_type": "code",
   "execution_count": 4,
   "metadata": {},
   "outputs": [],
   "source": [
    "def _unfold(img, patch_size, stride):\n",
    "    n_dim = 3\n",
    "    assert img.dim() == n_dim, 'image must be of dimension 3.'\n",
    "\n",
    "    kH, kW = patch_size, patch_size\n",
    "    dH, dW = stride, stride\n",
    "    input_windows = img.unfold(1, kH, dH).unfold(2, kW, dW)\n",
    "\n",
    "    i_1, i_2, i_3, i_4, i_5 = input_windows.size(0), input_windows.size(1), input_windows.size(\n",
    "        2), input_windows.size(3), input_windows.size(4)\n",
    "\n",
    "    return input_windows.permute(1, 2, 0, 3, 4).contiguous().view(i_2 * i_3, i_1, i_4, i_5)"
   ]
  },
  {
   "cell_type": "code",
   "execution_count": 5,
   "metadata": {},
   "outputs": [],
   "source": [
    "#torch.einsum('abcde->bcade', input_windows)"
   ]
  },
  {
   "cell_type": "code",
   "execution_count": 6,
   "metadata": {},
   "outputs": [
    {
     "name": "stdout",
     "output_type": "stream",
     "text": [
      " "
     ]
    },
    {
     "data": {
      "text/plain": [
       "         15 function calls in 0.002 seconds\n",
       "\n",
       "   Ordered by: internal time\n",
       "\n",
       "   ncalls  tottime  percall  cumtime  percall filename:lineno(function)\n",
       "        1    0.002    0.002    0.002    0.002 {method 'contiguous' of 'torch._C._TensorBase' objects}\n",
       "        2    0.000    0.000    0.000    0.000 {method 'unfold' of 'torch._C._TensorBase' objects}\n",
       "        1    0.000    0.000    0.002    0.002 <ipython-input-4-8160f3836a48>:1(_unfold)\n",
       "        1    0.000    0.000    0.000    0.000 {method 'view' of 'torch._C._TensorBase' objects}\n",
       "        1    0.000    0.000    0.000    0.000 {method 'permute' of 'torch._C._TensorBase' objects}\n",
       "        1    0.000    0.000    0.002    0.002 {built-in method builtins.exec}\n",
       "        5    0.000    0.000    0.000    0.000 {method 'size' of 'torch._C._TensorBase' objects}\n",
       "        1    0.000    0.000    0.000    0.000 {method 'dim' of 'torch._C._TensorBase' objects}\n",
       "        1    0.000    0.000    0.002    0.002 <string>:1(<module>)\n",
       "        1    0.000    0.000    0.000    0.000 {method 'disable' of '_lsprof.Profiler' objects}"
      ]
     },
     "metadata": {},
     "output_type": "display_data"
    }
   ],
   "source": [
    "%prun x_unfolded = _unfold(x, patch_size, stride)\n",
    "y_unfolded = _unfold(y, patch_size, stride)"
   ]
  },
  {
   "cell_type": "code",
   "execution_count": 7,
   "metadata": {},
   "outputs": [],
   "source": [
    "def _filter(input_windows, flag, value):\n",
    "    ## EXTRACT MASK OR NOT DEPENDING ON VALUE\n",
    "    input_window = input_windows[flag == value]\n",
    "    return input_window.view(input_window.size(0), -1)"
   ]
  },
  {
   "cell_type": "code",
   "execution_count": 8,
   "metadata": {},
   "outputs": [],
   "source": [
    "flag = torch.rand((1024)) > 0.75"
   ]
  },
  {
   "cell_type": "code",
   "execution_count": 9,
   "metadata": {},
   "outputs": [],
   "source": [
    "x_unfolded_filtered = _filter(x_unfolded, flag, 1)\n",
    "y_unfolded_filtered = _filter(y_unfolded, flag, 0)"
   ]
  },
  {
   "cell_type": "code",
   "execution_count": 10,
   "metadata": {},
   "outputs": [
    {
     "data": {
      "text/plain": [
       "torch.Size([248, 256])"
      ]
     },
     "execution_count": 10,
     "metadata": {},
     "output_type": "execute_result"
    }
   ],
   "source": [
    "x_unfolded_filtered.shape"
   ]
  },
  {
   "cell_type": "code",
   "execution_count": 11,
   "metadata": {},
   "outputs": [
    {
     "data": {
      "text/plain": [
       "torch.Size([776, 256])"
      ]
     },
     "execution_count": 11,
     "metadata": {},
     "output_type": "execute_result"
    }
   ],
   "source": [
    "y_unfolded_filtered.shape"
   ]
  },
  {
   "cell_type": "code",
   "execution_count": 12,
   "metadata": {},
   "outputs": [],
   "source": [
    "def create_var(x, y, dim=1024, _v=1):\n",
    "    N = K = x.size(0)\n",
    "    M = y.size(0)\n",
    "    # VERSION 1, REAL IMPLEMENTATION\n",
    "    if _v == 0:\n",
    "        U = torch.randn((N, K)).cuda()\n",
    "        V = torch.randn((M, K)).cuda()\n",
    "    # VERSION 2, FOR ME :)\n",
    "    else:\n",
    "        U = torch.randn((dim, dim)).cuda()\n",
    "        V = torch.randn((dim, dim)).cuda()\n",
    "\n",
    "    return U, V"
   ]
  },
  {
   "cell_type": "code",
   "execution_count": 13,
   "metadata": {},
   "outputs": [
    {
     "name": "stdout",
     "output_type": "stream",
     "text": [
      "CPU times: user 28 ms, sys: 4 ms, total: 32 ms\n",
      "Wall time: 30.9 ms\n"
     ]
    }
   ],
   "source": [
    "%time U, V = create_var(x_unfolded_filtered, y_unfolded_filtered)"
   ]
  },
  {
   "cell_type": "code",
   "execution_count": 14,
   "metadata": {},
   "outputs": [
    {
     "name": "stdout",
     "output_type": "stream",
     "text": [
      "torch.Size([1024, 1024])\n",
      "torch.Size([1024, 1024])\n"
     ]
    }
   ],
   "source": [
    "print(U.shape)\n",
    "print(V.shape)"
   ]
  },
  {
   "cell_type": "code",
   "execution_count": 27,
   "metadata": {},
   "outputs": [],
   "source": [
    "def pprint(*args, print_=True):\n",
    "    if print_:\n",
    "        print(*args)\n",
    "        \n",
    "def BAN(x, y, U, V):\n",
    "    def _bilinear_attention_map(x, y, U, V, v1, P):\n",
    "        pprint(v1.shape, P.shape, 'i,j->ij')\n",
    "        tmp = torch.einsum('i,j->ij', [v1, P])\n",
    "        pprint(tmp.shape)\n",
    "        pprint()\n",
    "        \n",
    "        pprint(x.shape, U.shape, 'ki,kj->ij')\n",
    "        XT_U = torch.einsum('ki,kj->ij', [x, U])\n",
    "        pprint(XT_U.shape)\n",
    "        pprint()\n",
    "        \n",
    "        pprint(tmp.shape, XT_U.shape, 'ij,ij->ij')\n",
    "        tmp1 = torch.einsum('ij,ij->ij', [tmp, XT_U])\n",
    "        pprint(tmp1.shape)\n",
    "        pprint()\n",
    "        \n",
    "        pprint(V.shape, y.shape, 'ki,kj->ij')\n",
    "        VT_y = torch.einsum('ki,kj->ij', [V, y])\n",
    "        pprint(VT_y.shape)\n",
    "        pprint()\n",
    "        \n",
    "        pprint(tmp1.shape, VT_y.shape, 'ik,kj->ij')\n",
    "        tmp = torch.einsum('ik,kj->ij', [tmp1, VT_y])\n",
    "        pprint(tmp.shape)\n",
    "        pprint()\n",
    "        \n",
    "        #tmp /= tmp.max()\n",
    "        A = F.softmax(tmp, dim=1)   \n",
    "        print(A)\n",
    "        pprint(A.shape)\n",
    "        pprint()\n",
    "        return A, XT_U, VT_y       \n",
    "    \n",
    "    def _filter_M(U,V,flag):\n",
    "        mask_indexes = (flag == 1).nonzero().t()\n",
    "        non_mask_indexes = (flag == 0).nonzero()\n",
    "        U = U[mask_indexes.t(), mask_indexes]\n",
    "        V = V[non_mask_indexes, mask_indexes]\n",
    "        return U, V\n",
    "    \n",
    "    def _emulate(x, y):\n",
    "        flag = torch.rand((1024)) > 0.75\n",
    "        x_unfolded = _unfold(x, patch_size, stride)\n",
    "        y_unfolded = _unfold(y, patch_size, stride)\n",
    "        X = _filter(x_unfolded, flag, 1)\n",
    "        Y = _filter(y_unfolded, flag, 0)  \n",
    "        \n",
    "        N = K = X.size(0)\n",
    "        M = Y.size(0)\n",
    "        p = X.size(1)\n",
    "        r = Y.size(1)\n",
    "        \n",
    "        P = torch.randn((K)).cuda()\n",
    "        v1 = torch.randn((p)).cuda()\n",
    "        return X, Y, P, v1, flag\n",
    "\n",
    "    ##EMULATE NEW MASK GENERATED\n",
    "    pprint('EMULATE')\n",
    "    X, Y, P, v1, flag = _emulate(x, y)\n",
    "    U, V = _filter_M(U, V, flag)\n",
    "    pprint(X.shape, Y.shape, U.shape, V.shape)\n",
    "    pprint('EMULATE')\n",
    "    pprint()\n",
    "    \n",
    "    A, XT_U, VT_y = _bilinear_attention_map(X, Y, U, V, v1, P) \n",
    "    pprint(A.shape, XT_U.shape, VT_y.shape, 'ki,kk,jk,a->ia')\n",
    "    A = torch.einsum('ki,kk,jk,a->ia', [XT_U, A, VT_y, v1])\n",
    "    pprint(A.shape, v1.shape, 'i,j->ij')\n",
    "    A  = (A - A.mean())/A.std()\n",
    "    return A"
   ]
  },
  {
   "cell_type": "code",
   "execution_count": 28,
   "metadata": {},
   "outputs": [
    {
     "name": "stdout",
     "output_type": "stream",
     "text": [
      "EMULATE\n",
      "torch.Size([236, 256]) torch.Size([788, 256]) torch.Size([236, 236]) torch.Size([788, 236])\n",
      "EMULATE\n",
      "\n",
      "torch.Size([256]) torch.Size([236]) i,j->ij\n",
      "torch.Size([256, 236])\n",
      "\n",
      "torch.Size([236, 256]) torch.Size([236, 236]) ki,kj->ij\n",
      "torch.Size([256, 236])\n",
      "\n",
      "torch.Size([256, 236]) torch.Size([256, 236]) ij,ij->ij\n",
      "torch.Size([256, 236])\n",
      "\n",
      "torch.Size([788, 236]) torch.Size([788, 256]) ki,kj->ij\n",
      "torch.Size([236, 256])\n",
      "\n",
      "torch.Size([256, 236]) torch.Size([236, 256]) ik,kj->ij\n",
      "torch.Size([256, 256])\n",
      "\n",
      "tensor([[  -228.7440,   2260.8074,  -2245.1704,  ...,    264.9022,\n",
      "          -3032.8220,  -1499.6331],\n",
      "        [ 12068.5996,   1665.9946,   2667.0586,  ...,  10224.2930,\n",
      "         -13163.8760,   5809.5278],\n",
      "        [ 18997.7148,  10164.2715,  -3481.1406,  ...,  13996.4180,\n",
      "         -10000.0488,  22184.8184],\n",
      "        ...,\n",
      "        [   883.2329,  -4868.3423, -10449.9395,  ...,   3700.0425,\n",
      "          -3574.8711,   1997.4094],\n",
      "        [  -895.6641,  -6653.4136,   2140.6934,  ...,   9737.2305,\n",
      "           2949.7808,  -2745.9023],\n",
      "        [  -863.1177, -13863.0586,  -2627.8159,  ...,   2720.0034,\n",
      "          -8931.0371,  12183.2158]], device='cuda:0')\n",
      "tensor([[0., 0., 0.,  ..., 0., 0., 0.],\n",
      "        [0., 0., 0.,  ..., 0., 0., 0.],\n",
      "        [0., 0., 0.,  ..., 0., 0., 0.],\n",
      "        ...,\n",
      "        [0., 0., 0.,  ..., 0., 0., 0.],\n",
      "        [0., 0., 0.,  ..., 0., 0., 0.],\n",
      "        [0., 0., 0.,  ..., 0., 0., 0.]], device='cuda:0')\n",
      "torch.Size([256, 256])\n",
      "\n",
      "torch.Size([256, 256]) torch.Size([256, 236]) torch.Size([236, 256]) ki,kk,jk,a->ia\n",
      "torch.Size([236, 256]) torch.Size([256]) i,j->ij\n",
      "CPU times: user 24 ms, sys: 0 ns, total: 24 ms\n",
      "Wall time: 16.9 ms\n"
     ]
    }
   ],
   "source": [
    "%time out = BAN(x, y, U, V)"
   ]
  },
  {
   "cell_type": "code",
   "execution_count": 29,
   "metadata": {},
   "outputs": [],
   "source": [
    "def pprint(*args, print_=False):\n",
    "    if print_:\n",
    "        print(*args)"
   ]
  },
  {
   "cell_type": "code",
   "execution_count": 22,
   "metadata": {},
   "outputs": [
    {
     "name": "stdout",
     "output_type": "stream",
     "text": [
      "2.18 ms ± 45.2 µs per loop (mean ± std. dev. of 7 runs, 100 loops each)\n"
     ]
    }
   ],
   "source": [
    "%timeit out = BAN(x, y, U, V)"
   ]
  },
  {
   "cell_type": "code",
   "execution_count": 23,
   "metadata": {},
   "outputs": [
    {
     "data": {
      "text/plain": [
       "torch.Size([261, 256])"
      ]
     },
     "execution_count": 23,
     "metadata": {},
     "output_type": "execute_result"
    }
   ],
   "source": [
    "out.shape"
   ]
  },
  {
   "cell_type": "code",
   "execution_count": 24,
   "metadata": {},
   "outputs": [
    {
     "data": {
      "text/plain": [
       "tensor([[ 0.6222, -1.6228,  1.3755,  ..., -0.9942, -0.6951,  0.3489],\n",
       "        [ 0.7233, -1.8864,  1.5991,  ..., -1.1557, -0.8080,  0.4057],\n",
       "        [-0.3618,  0.9409, -0.7989,  ...,  0.5761,  0.4026, -0.2033],\n",
       "        ...,\n",
       "        [-0.4025,  1.0468, -0.8888,  ...,  0.6410,  0.4479, -0.2261],\n",
       "        [-2.0871,  5.4360, -4.6116,  ...,  3.3295,  2.3273, -1.1715],\n",
       "        [-0.8837,  2.3006, -1.9523,  ...,  1.4090,  0.9848, -0.4962]],\n",
       "       device='cuda:0')"
      ]
     },
     "execution_count": 24,
     "metadata": {},
     "output_type": "execute_result"
    }
   ],
   "source": [
    "out"
   ]
  },
  {
   "cell_type": "markdown",
   "metadata": {},
   "source": [
    "# MOST OF THE TIMES WAS SPENT IN CREATING THE BIG U AND V MATRICES"
   ]
  },
  {
   "cell_type": "code",
   "execution_count": null,
   "metadata": {},
   "outputs": [],
   "source": []
  },
  {
   "cell_type": "code",
   "execution_count": null,
   "metadata": {},
   "outputs": [],
   "source": []
  },
  {
   "cell_type": "code",
   "execution_count": null,
   "metadata": {},
   "outputs": [],
   "source": []
  },
  {
   "cell_type": "code",
   "execution_count": null,
   "metadata": {},
   "outputs": [],
   "source": []
  },
  {
   "cell_type": "code",
   "execution_count": null,
   "metadata": {},
   "outputs": [],
   "source": []
  },
  {
   "cell_type": "code",
   "execution_count": null,
   "metadata": {},
   "outputs": [],
   "source": []
  },
  {
   "cell_type": "code",
   "execution_count": null,
   "metadata": {},
   "outputs": [],
   "source": []
  },
  {
   "cell_type": "code",
   "execution_count": null,
   "metadata": {},
   "outputs": [],
   "source": []
  },
  {
   "cell_type": "code",
   "execution_count": null,
   "metadata": {},
   "outputs": [],
   "source": []
  },
  {
   "cell_type": "code",
   "execution_count": null,
   "metadata": {},
   "outputs": [],
   "source": []
  },
  {
   "cell_type": "code",
   "execution_count": null,
   "metadata": {},
   "outputs": [],
   "source": []
  }
 ],
 "metadata": {
  "kernelspec": {
   "display_name": "Python 3",
   "language": "python",
   "name": "python3"
  },
  "language_info": {
   "codemirror_mode": {
    "name": "ipython",
    "version": 3
   },
   "file_extension": ".py",
   "mimetype": "text/x-python",
   "name": "python",
   "nbconvert_exporter": "python",
   "pygments_lexer": "ipython3",
   "version": "3.6.4"
  }
 },
 "nbformat": 4,
 "nbformat_minor": 2
}
